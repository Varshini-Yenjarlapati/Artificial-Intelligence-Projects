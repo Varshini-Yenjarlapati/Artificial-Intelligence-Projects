{
  "cells": [
    {
      "cell_type": "markdown",
      "metadata": {
        "id": "eqJ3c4rsarS-"
      },
      "source": [
        "# Intelligent Agents: Reflex-Based Agents for the Vacuum-cleaner World\n",
        "\n",
        "Student Name:varshini yenjarlapati\n",
        "\n",
        "I have used the following AI tools: w3 schools,stack overflow,you tube,chatgpt3.5\n",
        "\n",
        "I understand that my submission needs to be my own work: YV\n",
        "\n",
        "## Instructions\n",
        "\n",
        "Total Points: Undergrads 100 + 5 bonus / Graduate students 110\n",
        "\n",
        "Complete this notebook. Use the provided notebook cells and insert additional code and markdown cells as needed. Submit the completely rendered notebook as a HTML file.\n",
        "\n",
        "In Visual Studio Code: Use Export (click on ... in the menu bar) to save your notebook as a HTML file.\n",
        "\n",
        "In Colab you need to save the notebook on GoogleDrive and then add the following block"
      ]
    },
    {
      "cell_type": "code",
      "execution_count": 1,
      "metadata": {
        "id": "r6mneMQuarTC"
      },
      "outputs": [],
      "source": [
        "# !pip install nbconvert\n",
        "#\n",
        "# from google.colab import drive\n",
        "# drive.mount('/content/drive')\n",
        "# !jupyter nbconvert --to html /content/drive/MyDrive/Colab\\ Notebooks/Copy\\ of\\ robot_vacuum.ipynb"
      ]
    },
    {
      "cell_type": "markdown",
      "metadata": {
        "id": "I1-B4536arTD"
      },
      "source": [
        "You will need to fix the file location on your GoogleDrive.\n",
        "\n",
        "## Introduction\n",
        "\n",
        "In this assignment you will implement a simulator environment for an automatic vacuum cleaner robot, a set of different reflex-based agent programs, and perform a comparison study for cleaning a single room. Focus on the __cleaning phase__ which starts when the robot is activated and ends when the last dirty square in the room has been cleaned. Someone else will take care of the agent program needed to navigate back to the charging station after the room is clean.\n",
        "\n",
        "## PEAS description of the cleaning phase\n",
        "\n",
        "__Performance Measure:__ Each action costs 1 energy unit. The performance is measured as the sum of the energy units used to clean the whole room.\n",
        "\n",
        "__Environment:__ A room with $n \\times n$ squares where $n = 5$. Dirt is randomly placed on each square with probability $p = 0.2$. For simplicity, you can assume that the agent knows the size and the layout of the room (i.e., it knows $n$). To start, the agent is placed on a random square.\n",
        "\n",
        "__Actuators:__ The agent can clean the current square (action `suck`) or move to an adjacent square by going `north`, `east`, `south`, or `west`.\n",
        "\n",
        "__Sensors:__ Four bumper sensors, one for north, east, south, and west; a dirt sensor reporting dirt in the current square.  \n",
        "\n",
        "\n",
        "## The agent program for a simple randomized agent\n",
        "\n",
        "The agent program is a function that gets sensor information (the current percepts) as the arguments. The arguments are:\n",
        "\n",
        "* A dictionary with boolean entries for the for bumper sensors `north`, `east`, `west`, `south`. E.g., if the agent is on the north-west corner, `bumpers` will be `{\"north\" : True, \"east\" : False, \"south\" : False, \"west\" : True}`.\n",
        "* The dirt sensor produces a boolean.\n",
        "\n",
        "The agent returns the chosen action as a string.\n",
        "\n",
        "Here is an example implementation for the agent program of a simple randomized agent:  "
      ]
    },
    {
      "cell_type": "code",
      "execution_count": 3,
      "metadata": {
        "id": "TrIqM9oxarTE"
      },
      "outputs": [],
      "source": [
        "# make sure numpy is installed\n",
        "!pip install -q numpy"
      ]
    },
    {
      "cell_type": "code",
      "execution_count": 4,
      "metadata": {
        "id": "gF9Ea2PqarTE"
      },
      "outputs": [],
      "source": [
        "import numpy as np\n",
        "\n",
        "actions = [\"north\", \"east\", \"west\", \"south\", \"suck\"]\n",
        "\n",
        "def simple_randomized_agent(bumpers, dirty):\n",
        "    return np.random.choice(actions)"
      ]
    },
    {
      "cell_type": "code",
      "execution_count": 5,
      "metadata": {
        "id": "kRdU8L-5arTE",
        "outputId": "b4dde2d7-d436-4beb-ac2b-ad58edf09ef2",
        "colab": {
          "base_uri": "https://localhost:8080/",
          "height": 36
        }
      },
      "outputs": [
        {
          "output_type": "execute_result",
          "data": {
            "text/plain": [
              "'east'"
            ],
            "application/vnd.google.colaboratory.intrinsic+json": {
              "type": "string"
            }
          },
          "metadata": {},
          "execution_count": 5
        }
      ],
      "source": [
        "# define percepts (current location is NW corner and it is dirty)\n",
        "bumpers = {\"north\" : True, \"east\" : False, \"south\" : False, \"west\" : True}\n",
        "dirty = True\n",
        "\n",
        "# call agent program function with percepts and it returns an action\n",
        "simple_randomized_agent(bumpers, dirty)"
      ]
    },
    {
      "cell_type": "markdown",
      "metadata": {
        "id": "nB4TP8yTarTG"
      },
      "source": [
        "__Note:__ This is not a rational intelligent agent. It ignores its sensors and may bump into a wall repeatedly or not clean a dirty square. You will be asked to implement rational agents below."
      ]
    },
    {
      "cell_type": "markdown",
      "metadata": {
        "id": "G2mIa149arTG"
      },
      "source": [
        "## Simple environment example\n",
        "\n",
        "We implement a simple simulation environment that supplies the agent with its percepts.\n",
        "The simple environment is infinite in size (bumpers are always `False`) and every square is always dirty, even if the agent cleans it. The environment function returns a different performance measure than the one specified in the PEAS description! Since the room is infinite and all squares are constantly dirty, the agent can never clean the whole room. Your implementation needs to implement the **correct performance measure.** The energy budget of the agent is specified as `max_steps`."
      ]
    },
    {
      "cell_type": "code",
      "execution_count": 6,
      "metadata": {
        "id": "tkdxTPKaarTH"
      },
      "outputs": [],
      "source": [
        "def simple_environment(agent_function, max_steps, verbose = True):\n",
        "    num_cleaned = 0\n",
        "\n",
        "    for i in range(max_steps):\n",
        "        dirty = True\n",
        "        bumpers = {\"north\" : False, \"south\" : False, \"west\" : False, \"east\" : False}\n",
        "\n",
        "        action = agent_function(bumpers, dirty)\n",
        "        if (verbose): print(\"step\", i , \"- action:\", action)\n",
        "\n",
        "        if (action == \"suck\"):\n",
        "            num_cleaned = num_cleaned + 1\n",
        "\n",
        "    return num_cleaned\n",
        "\n"
      ]
    },
    {
      "cell_type": "markdown",
      "metadata": {
        "id": "1SsZCHSUarTH"
      },
      "source": [
        "Do one simulation run with a simple randomized agent that has enough energy for 20 steps."
      ]
    },
    {
      "cell_type": "code",
      "execution_count": 7,
      "metadata": {
        "id": "Gj10XjrMarTI",
        "outputId": "59d1a2bb-fbf1-4bf0-f02a-dc82411b841b",
        "colab": {
          "base_uri": "https://localhost:8080/"
        }
      },
      "outputs": [
        {
          "output_type": "stream",
          "name": "stdout",
          "text": [
            "step 0 - action: suck\n",
            "step 1 - action: east\n",
            "step 2 - action: suck\n",
            "step 3 - action: east\n",
            "step 4 - action: west\n",
            "step 5 - action: south\n",
            "step 6 - action: west\n",
            "step 7 - action: east\n",
            "step 8 - action: north\n",
            "step 9 - action: north\n",
            "step 10 - action: north\n",
            "step 11 - action: west\n",
            "step 12 - action: west\n",
            "step 13 - action: suck\n",
            "step 14 - action: south\n",
            "step 15 - action: south\n",
            "step 16 - action: south\n",
            "step 17 - action: west\n",
            "step 18 - action: south\n",
            "step 19 - action: east\n"
          ]
        },
        {
          "output_type": "execute_result",
          "data": {
            "text/plain": [
              "3"
            ]
          },
          "metadata": {},
          "execution_count": 7
        }
      ],
      "source": [
        "simple_environment(simple_randomized_agent, max_steps = 20)"
      ]
    },
    {
      "cell_type": "markdown",
      "metadata": {
        "id": "ahKIW_f2arTI"
      },
      "source": [
        "# Tasks\n",
        "\n",
        "## General [10 Points]\n",
        "\n",
        "1. Make sure that you use the latest version of this notebook.\n",
        "2. Your implementation can use libraries like math, numpy, scipy, but not libraries that implement intelligent agents or complete search algorithms. Try to keep the code simple! In this course, we want to learn about the algorithms and we often do not need to use object-oriented design.\n",
        "3. You notebook needs to be formatted professionally.\n",
        "    - Add additional markdown blocks for your description, comments in the code, add tables and use mathplotlib to produce charts where appropriate\n",
        "    - Do not show debugging output or include an excessive amount of output.\n",
        "    - Check that your submitted file is readable. For example, long lines may get cut off. You don't have control over page breaks, so do not worry about these.\n",
        "4. Document your code. Add a short discussion of how your implementation works and your design choices.\n",
        "\n",
        "\n",
        "## Task 1: Implement a simulation environment [20 Points]\n",
        "\n",
        "The simple environment above is not very realistic. Your environment simulator needs to follow the PEAS description from above. It needs to:\n",
        "\n",
        "* Initialize the environment by storing the state of each square (clean/dirty) and making some dirty. ([Help with random numbers and arrays in Python](https://github.com/mhahsler/CS7320-AI/blob/master/HOWTOs/random_numbers_and_arrays.ipynb))\n",
        "* Keep track of the agent's position.\n",
        "* Call the agent function repeatedly and provide the agent function with the sensor inputs.  \n",
        "* React to the agent's actions. E.g, by removing dirt from a square or moving the agent around unless there is a wall in the way.\n",
        "* Keep track of the performance measure. That is, track the agent's actions until all dirty squares are clean and count the number of actions it takes the agent to complete the task.\n",
        "\n",
        "The easiest implementation for the environment is to hold an 2-dimensional array to represent if squares are clean or dirty and to call the agent function in a loop until all squares are clean or a predefined number of steps have been reached (i.e., the robot runs out of energy).\n",
        "\n",
        "The simulation environment should be a function like the `simple_environment()` and needs to work with the simple randomized agent program from above. **Use the same environment for all your agent implementations in the tasks below.**\n",
        "\n",
        "*Note on debugging:* Debugging is difficult. Make sure your environment prints enough information when you use `verbose = True`. Also, implementing a function that the environment can use to displays the room with dirt and the current position of the robot at every step is very useful.  "
      ]
    },
    {
      "cell_type": "code",
      "source": [
        "import numpy as np\n",
        "import random\n",
        "\n",
        "# Initialize the room with some squares dirty based on dirt_prob\n",
        "def initialize_room(n=5, dirt_prob=0.2):\n",
        "    # 1 = Dirty, 0 = Clean\n",
        "    room = np.random.choice([0, 1], size=(n, n), p=[1-dirt_prob, dirt_prob])\n",
        "    return room\n",
        "\n",
        "# Place the agent randomly in the room\n",
        "def place_agent(n):\n",
        "    return (random.randint(0, n-1), random.randint(0, n-1))\n",
        "\n",
        "# Get the sensor readings for bumpers and dirt status\n",
        "def get_sensors(agent_position, room):\n",
        "    x, y = agent_position\n",
        "    n = room.shape[0]\n",
        "    bumpers = {\n",
        "        \"north\": (x == 0),\n",
        "        \"south\": (x == n-1),\n",
        "        \"west\": (y == 0),\n",
        "        \"east\": (y == n-1)\n",
        "    }\n",
        "    dirt = room[x, y]\n",
        "    return bumpers, dirt\n",
        "\n",
        "# Move the agent based on the action and bumpers\n",
        "def move_agent(agent_position, action, bumpers):\n",
        "    x, y = agent_position\n",
        "    if action == \"north\" and not bumpers[\"north\"]:\n",
        "        return (x - 1, y)\n",
        "    elif action == \"south\" and not bumpers[\"south\"]:\n",
        "        return (x + 1, y)\n",
        "    elif action == \"west\" and not bumpers[\"west\"]:\n",
        "        return (x, y - 1)\n",
        "    elif action == \"east\" and not bumpers[\"east\"]:\n",
        "        return (x, y + 1)\n",
        "    return agent_position  # If bumpers block movement, stay in the same position\n",
        "\n",
        "# The environment simulator\n",
        "def environment(agent_function, room_size=5, dirt_prob=0.2,max_steps=50, verbose=True):\n",
        "    # Initialize the room and agent position\n",
        "    room = initialize_room(room_size, dirt_prob)\n",
        "    agent_position = place_agent(room_size)\n",
        "    total_energy = 0  # Performance measure: number of actions taken\n",
        "\n",
        "    for step in range(max_steps):\n",
        "        bumpers, dirty = get_sensors(agent_position, room)  # Get sensors (bumpers and dirt)\n",
        "        action = agent_function(bumpers, dirty)  # Call agent function to get the next action\n",
        "\n",
        "        # Perform the action\n",
        "        if action == \"suck\":\n",
        "            if dirty:\n",
        "                room[agent_position] = 0  # Clean the square if dirty\n",
        "        else:\n",
        "            agent_position = move_agent(agent_position, action, bumpers)  # Move the agent\n",
        "\n",
        "        # Increment the performance measure (1 action = 1 energy unit)\n",
        "        total_energy += 1\n",
        "\n",
        "        # Display the room and vacuum position directly if verbose mode is on\n",
        "        if verbose:\n",
        "            print(f\"Step {step}: Action={action}, Position={agent_position}\")\n",
        "\n",
        "        # If all squares are clean, stop the simulation\n",
        "        if np.sum(room) == 0:\n",
        "            print(\"Room cleaned completely!\")\n",
        "            break\n",
        "\n",
        "    # Print the total energy (steps taken)\n",
        "    print(f\"Total energy used: {total_energy} steps\")\n",
        "    return total_energy\n",
        "\n",
        "\n",
        "# Run the simulation\n",
        "total_energy_used = environment(simple_randomized_agent, room_size=5, dirt_prob=0.2, max_steps=50, verbose=True)\n"
      ],
      "metadata": {
        "colab": {
          "base_uri": "https://localhost:8080/"
        },
        "id": "GuJXfcbcddWH",
        "outputId": "de40bca8-652f-490c-f8f1-86716276e1e6"
      },
      "execution_count": 8,
      "outputs": [
        {
          "output_type": "stream",
          "name": "stdout",
          "text": [
            "Step 0: Action=east, Position=(3, 1)\n",
            "Step 1: Action=west, Position=(3, 0)\n",
            "Step 2: Action=east, Position=(3, 1)\n",
            "Step 3: Action=west, Position=(3, 0)\n",
            "Step 4: Action=west, Position=(3, 0)\n",
            "Step 5: Action=suck, Position=(3, 0)\n",
            "Step 6: Action=east, Position=(3, 1)\n",
            "Step 7: Action=east, Position=(3, 2)\n",
            "Step 8: Action=west, Position=(3, 1)\n",
            "Step 9: Action=west, Position=(3, 0)\n",
            "Step 10: Action=north, Position=(2, 0)\n",
            "Step 11: Action=suck, Position=(2, 0)\n",
            "Step 12: Action=south, Position=(3, 0)\n",
            "Step 13: Action=south, Position=(4, 0)\n",
            "Step 14: Action=east, Position=(4, 1)\n",
            "Step 15: Action=east, Position=(4, 2)\n",
            "Step 16: Action=south, Position=(4, 2)\n",
            "Step 17: Action=west, Position=(4, 1)\n",
            "Step 18: Action=west, Position=(4, 0)\n",
            "Step 19: Action=suck, Position=(4, 0)\n",
            "Step 20: Action=west, Position=(4, 0)\n",
            "Step 21: Action=east, Position=(4, 1)\n",
            "Step 22: Action=suck, Position=(4, 1)\n",
            "Step 23: Action=west, Position=(4, 0)\n",
            "Step 24: Action=west, Position=(4, 0)\n",
            "Step 25: Action=south, Position=(4, 0)\n",
            "Step 26: Action=north, Position=(3, 0)\n",
            "Step 27: Action=north, Position=(2, 0)\n",
            "Step 28: Action=south, Position=(3, 0)\n",
            "Step 29: Action=west, Position=(3, 0)\n",
            "Step 30: Action=suck, Position=(3, 0)\n",
            "Step 31: Action=east, Position=(3, 1)\n",
            "Step 32: Action=west, Position=(3, 0)\n",
            "Step 33: Action=west, Position=(3, 0)\n",
            "Step 34: Action=west, Position=(3, 0)\n",
            "Step 35: Action=east, Position=(3, 1)\n",
            "Step 36: Action=west, Position=(3, 0)\n",
            "Step 37: Action=north, Position=(2, 0)\n",
            "Step 38: Action=north, Position=(1, 0)\n",
            "Step 39: Action=south, Position=(2, 0)\n",
            "Step 40: Action=west, Position=(2, 0)\n",
            "Step 41: Action=east, Position=(2, 1)\n",
            "Step 42: Action=north, Position=(1, 1)\n",
            "Step 43: Action=suck, Position=(1, 1)\n",
            "Step 44: Action=suck, Position=(1, 1)\n",
            "Step 45: Action=east, Position=(1, 2)\n",
            "Step 46: Action=east, Position=(1, 3)\n",
            "Step 47: Action=east, Position=(1, 4)\n",
            "Step 48: Action=west, Position=(1, 3)\n",
            "Step 49: Action=south, Position=(2, 3)\n",
            "Total energy used: 50 steps\n"
          ]
        }
      ]
    },
    {
      "cell_type": "markdown",
      "source": [
        "This code simulates an environment for an automatic vacuum cleaner robot, where the agent must clean a room of size `n x n` with dirt placed randomly in the squares based on a given probability.\n",
        "\n",
        "### Components of the Code:\n",
        "\n",
        "1. **Room Initialization (`initialize_room`)**:\n",
        "   - Creates a 2D grid (room) of size `n x n` where each square is either dirty (`1`) or clean (`0`), determined by the given dirt probability (`dirt_prob`). The room layout is generated randomly.\n",
        "\n",
        "2. **Agent Placement (`place_agent`)**:\n",
        "   - The agent is placed randomly at any square in the room, using random coordinates.\n",
        "\n",
        "3. **Sensors (`get_sensors`)**:\n",
        "   - The function provides sensor inputs for the agent, including:\n",
        "     - **Bumper sensors**: Detect whether the agent is at the edge of the room (north, south, west, or east).\n",
        "     - **Dirt sensor**: Detects whether the current square is dirty (`1`) or clean (`0`).\n",
        "\n",
        "4. **Agent Movement (`move_agent`)**:\n",
        "   - Based on the agent's action (north, south, east, or west), this function updates the agent's position unless it's blocked by a wall (detected by the bumper sensors).\n",
        "\n",
        "5. **Environment Simulator (`environment`)**:\n",
        "   - Simulates the cleaning process. The agent:\n",
        "     - Receives sensor inputs (bumper and dirt status).\n",
        "     - Decides on an action based on the agent function provided.\n",
        "     - Cleans the square if dirty or moves based on the action. The cleaning reduces the dirt in that square to `0`.\n",
        "     - Tracks the number of steps (energy used) for the agent to clean the room.\n",
        "     - Stops the simulation once all squares are clean or the maximum number of steps is reached.\n",
        "\n",
        "6. **Simulation Execution**:\n",
        "   - The simulation runs the environment for a room of size 5x5, with a dirt probability of 20% (`dirt_prob = 0.2`) and a maximum of 50 steps. It uses a simple randomized agent, which selects actions at random, to clean the room. The process is printed step by step when `verbose=True`.\n",
        "\n"
      ],
      "metadata": {
        "id": "YFkFP6Flzr1w"
      }
    },
    {
      "cell_type": "markdown",
      "metadata": {
        "id": "HzFt-AFyarTI"
      },
      "source": [
        "## Task 2:  Implement a simple reflex agent [10 Points]\n",
        "\n",
        "The simple reflex agent randomly walks around but reacts to the bumper sensor by not bumping into the wall and to dirt with sucking. Implement the agent program as a function.\n",
        "\n",
        "_Note:_ Agents cannot directly use variable in the environment. They only gets the percepts as the arguments to the agent function. Use the function signature for the `simple_randomized_agent` function above."
      ]
    },
    {
      "cell_type": "code",
      "execution_count": 9,
      "metadata": {
        "id": "i1Xb-K-xarTI",
        "colab": {
          "base_uri": "https://localhost:8080/"
        },
        "outputId": "060de551-f9e1-46e4-e07c-d7b1849e5cfc"
      },
      "outputs": [
        {
          "output_type": "stream",
          "name": "stdout",
          "text": [
            "Step 0: Action=suck, Position=(1, 1)\n",
            "Step 1: Action=north, Position=(0, 1)\n",
            "Step 2: Action=south, Position=(1, 1)\n",
            "Step 3: Action=east, Position=(1, 2)\n",
            "Step 4: Action=west, Position=(1, 1)\n",
            "Step 5: Action=east, Position=(1, 2)\n",
            "Step 6: Action=east, Position=(1, 3)\n",
            "Step 7: Action=west, Position=(1, 2)\n",
            "Step 8: Action=west, Position=(1, 1)\n",
            "Step 9: Action=south, Position=(2, 1)\n",
            "Step 10: Action=west, Position=(2, 0)\n",
            "Step 11: Action=north, Position=(1, 0)\n",
            "Step 12: Action=south, Position=(2, 0)\n",
            "Step 13: Action=east, Position=(2, 1)\n",
            "Step 14: Action=west, Position=(2, 0)\n",
            "Step 15: Action=south, Position=(3, 0)\n",
            "Step 16: Action=suck, Position=(3, 0)\n",
            "Step 17: Action=south, Position=(4, 0)\n",
            "Step 18: Action=north, Position=(3, 0)\n",
            "Step 19: Action=south, Position=(4, 0)\n",
            "Step 20: Action=east, Position=(4, 1)\n",
            "Step 21: Action=east, Position=(4, 2)\n",
            "Step 22: Action=north, Position=(3, 2)\n",
            "Step 23: Action=north, Position=(2, 2)\n",
            "Step 24: Action=west, Position=(2, 1)\n",
            "Step 25: Action=north, Position=(1, 1)\n",
            "Step 26: Action=south, Position=(2, 1)\n",
            "Step 27: Action=east, Position=(2, 2)\n",
            "Step 28: Action=east, Position=(2, 3)\n",
            "Step 29: Action=east, Position=(2, 4)\n",
            "Step 30: Action=south, Position=(3, 4)\n",
            "Step 31: Action=north, Position=(2, 4)\n",
            "Step 32: Action=south, Position=(3, 4)\n",
            "Step 33: Action=north, Position=(2, 4)\n",
            "Step 34: Action=south, Position=(3, 4)\n",
            "Step 35: Action=west, Position=(3, 3)\n",
            "Step 36: Action=suck, Position=(3, 3)\n",
            "Step 37: Action=north, Position=(2, 3)\n",
            "Step 38: Action=north, Position=(1, 3)\n",
            "Step 39: Action=west, Position=(1, 2)\n",
            "Step 40: Action=west, Position=(1, 1)\n",
            "Step 41: Action=west, Position=(1, 0)\n",
            "Step 42: Action=south, Position=(2, 0)\n",
            "Step 43: Action=east, Position=(2, 1)\n",
            "Step 44: Action=south, Position=(3, 1)\n",
            "Step 45: Action=south, Position=(4, 1)\n",
            "Step 46: Action=west, Position=(4, 0)\n",
            "Step 47: Action=east, Position=(4, 1)\n",
            "Step 48: Action=north, Position=(3, 1)\n",
            "Step 49: Action=north, Position=(2, 1)\n",
            "Total energy used: 50 steps\n"
          ]
        }
      ],
      "source": [
        "\n",
        "def simple_reflex_agent(bumpers, dirty):\n",
        "    if dirty:\n",
        "        return \"suck\"  # Clean the square if dirty\n",
        "    else:\n",
        "        # If the square is clean, move in a random valid direction (avoiding walls)\n",
        "        actions = [\"north\", \"south\", \"west\", \"east\"]\n",
        "\n",
        "        # Filter out directions where bumpers are True (i.e., there's a wall)\n",
        "        valid_moves = [action for action in actions if not bumpers[action]]\n",
        "\n",
        "        # Choose a random valid move (if no valid moves, agent stays and sucks)\n",
        "        return random.choice(valid_moves) if valid_moves else \"suck\"\n",
        "\n",
        "# Run the simulation with the simple reflex agent\n",
        "total_energy_used = environment(simple_reflex_agent, room_size=5, dirt_prob=0.2, max_steps=50, verbose=True)\n"
      ]
    },
    {
      "cell_type": "markdown",
      "source": [
        "#simple reflex agent:\n",
        "The agent reacts only to its current surroundings. If the square is dirty, it cleans it by performing the \"suck\" action. If the square is clean, the agent moves randomly to a neighboring square, avoiding walls based on bumper sensors. It doesn't remember past actions or locations, leading to inefficient cleaning as it might revisit clean areas or move aimlessly. This agent is purely reactive, with no planning or strategy."
      ],
      "metadata": {
        "id": "FRYTKG1h0j1Z"
      }
    },
    {
      "cell_type": "markdown",
      "metadata": {
        "id": "FTahqhvUarTJ"
      },
      "source": [
        "## Task 3: Implement a model-based reflex agent [20 Points]\n",
        "\n",
        "Model-based agents use a state to keep track of what they have done and perceived so far. Your agent needs to find out where it is located and then keep track of its current location. You also need a set of rules based on the state and the percepts to make sure that the agent will clean the whole room. For example, the agent can move to a corner to determine its location and then it can navigate through the whole room and clean dirty squares.\n",
        "\n",
        "Describe how you define the __agent state__ and how your agent works before implementing it. ([Help with implementing state information on Python](https://github.com/mhahsler/CS7320-AI/blob/master/HOWTOs/store_agent_state_information.ipynb))"
      ]
    },
    {
      "cell_type": "markdown",
      "source": [
        "### Short Description of State and Implementation\n",
        "This model ensures the agent cleans the entire room efficiently, minimizes repeated visits to the same squares, and handles walls using its sensors and internal state.\n",
        "The agent maintains an internal state to track its movements, The agent's state includes:\n",
        "\n",
        "- **visited_squares**: A set to track squares the agent has visited.\n",
        "- **cleaned_squares**: A set to track squares that the agent has cleaned.\n",
        "- **agent_position**: The current position of the agent in the room.\n",
        "- **moving_to_corner**: A flag indicating whether the agent is in the phase of moving to the top-left corner (northwest corner) to establish a reference point.\n",
        "- **direction**: The current direction of the agent's movement, used during the zigzag cleaning pattern.\n",
        "\n",
        "### Implementation Strategy\n",
        "\n",
        "1. **Initial Movement (Phase 1)**: The agent first tries to move to the top-left corner of the room (northwest). It continues moving north and west until it reaches this corner.\n",
        "2. **Zigzag Cleaning Pattern (Phase 2)**: Once in the top-left corner, the agent follows a systematic zigzag pattern to cover the entire room. It moves east until it hits a wall, then moves south and changes direction to west. This pattern continues until the entire room is cleaned.\n",
        "3. **Cleaning Logic**: The agent sucks up dirt when it detects a dirty square. It remembers which squares it has cleaned, avoiding redundant cleaning.\n",
        "4. **Bumper Sensors**: The agent uses bumper sensors to avoid moving into walls, adjusting its direction accordingly. If blocked, it changes direction to continue cleaning.\n",
        "\n"
      ],
      "metadata": {
        "id": "VJkzlEV6wj0I"
      }
    },
    {
      "cell_type": "code",
      "execution_count": 11,
      "metadata": {
        "id": "tD2k8OSrarTJ",
        "colab": {
          "base_uri": "https://localhost:8080/"
        },
        "outputId": "ea6727fe-01e3-42e5-abea-7ff9e0d3aeda"
      },
      "outputs": [
        {
          "output_type": "stream",
          "name": "stdout",
          "text": [
            "Step 0: Action=suck, Position=(2, 2)\n",
            "Step 1: Action=north, Position=(1, 2)\n",
            "Step 2: Action=suck, Position=(1, 2)\n",
            "Step 3: Action=north, Position=(0, 2)\n",
            "Step 4: Action=suck, Position=(0, 2)\n",
            "Step 5: Action=west, Position=(0, 1)\n",
            "Step 6: Action=west, Position=(0, 0)\n",
            "Step 7: Action=suck, Position=(0, 0)\n",
            "Step 8: Action=east, Position=(0, 1)\n",
            "Step 9: Action=east, Position=(0, 2)\n",
            "Step 10: Action=east, Position=(0, 3)\n",
            "Step 11: Action=east, Position=(0, 4)\n",
            "Step 12: Action=south, Position=(1, 4)\n",
            "Step 13: Action=suck, Position=(1, 4)\n",
            "Step 14: Action=west, Position=(1, 3)\n",
            "Step 15: Action=west, Position=(1, 2)\n",
            "Step 16: Action=west, Position=(1, 1)\n",
            "Step 17: Action=west, Position=(1, 0)\n",
            "Step 18: Action=south, Position=(2, 0)\n",
            "Step 19: Action=east, Position=(2, 1)\n",
            "Step 20: Action=east, Position=(2, 2)\n",
            "Step 21: Action=east, Position=(2, 3)\n",
            "Step 22: Action=east, Position=(2, 4)\n",
            "Step 23: Action=suck, Position=(2, 4)\n",
            "Step 24: Action=south, Position=(3, 4)\n",
            "Step 25: Action=west, Position=(3, 3)\n",
            "Step 26: Action=suck, Position=(3, 3)\n",
            "Room cleaned completely!\n",
            "Total energy used: 27 steps\n"
          ]
        }
      ],
      "source": [
        "def model_based_reflex_agent(room_size):\n",
        "    # Initialize agent state\n",
        "    agent_state = {\n",
        "        'visited_squares': set(),    # Track visited squares\n",
        "        'cleaned_squares': set(),    # Track cleaned squares\n",
        "        'agent_position': place_agent(room_size),  # Current agent position\n",
        "        'moving_to_corner': True,    # Phase 1: Move to the top-left corner\n",
        "        'direction': 'east'          # Start moving east after reaching the corner\n",
        "    }\n",
        "\n",
        "    def agent_function(bumpers, dirty):\n",
        "        x, y = agent_state['agent_position']\n",
        "\n",
        "        # Clean if the current square is dirty\n",
        "        if dirty and (x, y) not in agent_state['cleaned_squares']:\n",
        "            agent_state['cleaned_squares'].add((x, y))\n",
        "            return \"suck\"\n",
        "\n",
        "        # Track visited squares\n",
        "        agent_state['visited_squares'].add((x, y))\n",
        "\n",
        "        # Phase 1: Move to the top-left corner (northwest)\n",
        "        if agent_state['moving_to_corner']:\n",
        "            if not bumpers[\"north\"]:\n",
        "                agent_state['agent_position'] = move_agent((x, y), \"north\", bumpers)\n",
        "                return \"north\"\n",
        "            elif not bumpers[\"west\"]:\n",
        "                agent_state['agent_position'] = move_agent((x, y), \"west\", bumpers)\n",
        "                return \"west\"\n",
        "            else:\n",
        "                agent_state['moving_to_corner'] = False  # Reached corner, start cleaning\n",
        "                return \"suck\"\n",
        "\n",
        "        # Phase 2: Zigzag cleaning pattern\n",
        "        if agent_state['direction'] == \"east\":\n",
        "            if not bumpers[\"east\"]:\n",
        "                agent_state['agent_position'] = move_agent((x, y), \"east\", bumpers)\n",
        "                return \"east\"\n",
        "            elif not bumpers[\"south\"]:\n",
        "                agent_state['agent_position'] = move_agent((x, y), \"south\", bumpers)\n",
        "                agent_state['direction'] = \"west\"\n",
        "                return \"south\"\n",
        "        elif agent_state['direction'] == \"west\":\n",
        "            if not bumpers[\"west\"]:\n",
        "                agent_state['agent_position'] = move_agent((x, y), \"west\", bumpers)\n",
        "                return \"west\"\n",
        "            elif not bumpers[\"south\"]:\n",
        "                agent_state['agent_position'] = move_agent((x, y), \"south\", bumpers)\n",
        "                agent_state['direction'] = \"east\"\n",
        "                return \"south\"\n",
        "\n",
        "        return \"suck\"  # Clean if no other movement possible\n",
        "\n",
        "    return agent_function\n",
        "\n",
        " # Run the simulation with the model-based reflex agent\n",
        "total_energy_used = environment(model_based_reflex_agent(5), room_size=5, dirt_prob=0.2, max_steps=50, verbose=True)\n"
      ]
    },
    {
      "cell_type": "markdown",
      "metadata": {
        "id": "SfXbK9RearTJ"
      },
      "source": [
        "## Task 4: Simulation study [30 Points]\n",
        "\n",
        "Compare the performance (the performance measure is defined in the PEAS description above) of the agents using  environments of different size. E.g., $5 \\times 5$, $10 \\times 10$ and\n",
        "$100 \\times 100$. Use 100 random runs for each. Present the results using tables and graphs. Discuss the differences between the agents.\n",
        "([Help with charts and tables in Python](https://github.com/mhahsler/CS7320-AI/blob/master/HOWTOs/charts_and_tables.ipynb))"
      ]
    },
    {
      "cell_type": "code",
      "execution_count": 14,
      "metadata": {
        "id": "_vUM_bMKarTJ",
        "colab": {
          "base_uri": "https://localhost:8080/",
          "height": 651
        },
        "outputId": "4c414a08-6a33-4e43-ee1c-9fcbdd2ad25c"
      },
      "outputs": [
        {
          "output_type": "stream",
          "name": "stdout",
          "text": [
            "Agent      Model-Based Reflex Agent  Simple Random Agent  Simple Reflex Agent\n",
            "Room Size                                                                    \n",
            "100x100                      200.00               200.00               200.00\n",
            "10x10                        124.47               200.00               200.00\n",
            "5x5                           28.88               188.74                91.32\n"
          ]
        },
        {
          "output_type": "display_data",
          "data": {
            "text/plain": [
              "<Figure size 1000x600 with 1 Axes>"
            ],
            "image/png": "[encoded data removed]"
          },
          "metadata": {}
        }
      ],
      "source": [
        "import matplotlib.pyplot as plt\n",
        "import pandas as pd\n",
        "import numpy as np\n",
        "import contextlib\n",
        "import io\n",
        "\n",
        "# Suppress output function\n",
        "def suppress_output():\n",
        "    return contextlib.redirect_stdout(io.StringIO())\n",
        "\n",
        "# Function for running multiple simulations\n",
        "def run_multiple_simulations(agent_function, room_size=5, dirt_prob=0.2, max_steps=200, num_runs=100, is_factory=False):\n",
        "    total_energy_list = []\n",
        "    for _ in range(num_runs):\n",
        "        agent = agent_function(room_size) if is_factory else agent_function\n",
        "        with suppress_output():  # Suppress output during simulation\n",
        "            total_energy = environment(agent, room_size=room_size, dirt_prob=dirt_prob, max_steps=max_steps, verbose=False)\n",
        "        total_energy_list.append(total_energy)\n",
        "    return np.mean(total_energy_list)\n",
        "\n",
        "# Room sizes to compare\n",
        "room_sizes = [5, 10, 100]\n",
        "\n",
        "# Dictionary of agents\n",
        "agents = {\n",
        "    'Simple Random Agent': (simple_randomized_agent, False),\n",
        "    'Simple Reflex Agent': (simple_reflex_agent, False),\n",
        "    'Model-Based Reflex Agent': (model_based_reflex_agent, True)\n",
        "}\n",
        "\n",
        "# Collect results\n",
        "results = []\n",
        "for room_size in room_sizes:\n",
        "    for agent_name, (agent_function, is_factory) in agents.items():\n",
        "        avg_energy_used = run_multiple_simulations(agent_function, room_size=room_size, num_runs=100, is_factory=is_factory)\n",
        "        results.append([f'{room_size}x{room_size}', agent_name, avg_energy_used])\n",
        "\n",
        "# Convert results to a DataFrame\n",
        "results_df = pd.DataFrame(results, columns=['Room Size', 'Agent', 'Avg Energy Used'])\n",
        "\n",
        "# Pivot the DataFrame for easier display\n",
        "pivot_table = results_df.pivot(index='Room Size', columns='Agent', values='Avg Energy Used')\n",
        "\n",
        "# Display the pivot table\n",
        "print(pivot_table)\n",
        "\n",
        "# Plot the results using a bar graph\n",
        "pivot_table.plot(kind='bar', figsize=(10, 6))\n",
        "plt.title('Average Energy Used by Different Agents Across Room Sizes')\n",
        "plt.xlabel('Room Size')\n",
        "plt.ylabel('Average Energy Used')\n",
        "plt.xticks(rotation=0)\n",
        "plt.legend(title='Agent Type')\n",
        "plt.show()\n"
      ]
    },
    {
      "cell_type": "markdown",
      "metadata": {
        "id": "rfbajWr0arTJ"
      },
      "source": [
        "Fill out the following table with the average performance measure for 100 random runs (you may also create this table with code):\n",
        "\n",
        "| Size     | Randomized Agent | Simple Reflex Agent | Model-based Reflex Agent |\n",
        "|----------|------------------|---------------------|--------------------------|\n",
        "| 5x5     |188.74             |91.32               |28.88                     |\n",
        "| 10x10   |200.00             |200.00               |124.47                    |\n",
        "| 100x100 |200.00             |200.00               |200.00                    |\n",
        "\n",
        "Add charts to compare the performance of the different agents."
      ]
    },
    {
      "cell_type": "markdown",
      "source": [
        "# Discussion\n",
        "## Visualization of Results\n",
        "The above bar chart compares the average energy used by each agent across different room sizes.\n",
        "In the 5x5 room, the Model-Based Reflex Agent performs significantly better,using only 28.88 steps compared to the Simple Reflex Agent which uses 91.32 steps and Simple Random Agent has 188.74 steps. This explains the efficiency of the model-based approach, which avoids unnecessary revisits and covers the room in a pattern.\n",
        "\n",
        "In the 10x10 room, the Model-Based Reflex Agent is more efficient, using 124.47 steps, while both the Simple Reflex Agent and Simple Random Agent use the full 200 steps. In the 100x100 room, all agents use the maximum 200 steps, highlighting the difficulty of cleaning large spaces efficiently.\n",
        "\n",
        "## Conclusion\n",
        "\n",
        "The results demonstrate that the model-based reflex agent is the most efficient in smaller rooms, using fewer steps to clean the room compared to the simple random and simple reflex agents. However, all agents face challenges in larger rooms. Future improvements could include optimizing the model-based agent's strategy for handling larger environments more effectively.\n"
      ],
      "metadata": {
        "id": "fPrrmhwEffvx"
      }
    },
    {
      "cell_type": "markdown",
      "metadata": {
        "id": "m1AHvnGparTK"
      },
      "source": [
        "## Task 5: Robustness of the agent implementations [10 Points]\n",
        "\n",
        "Describe how **your agent implementations** will perform\n",
        "\n",
        "* if it is put into a rectangular room with unknown size,\n",
        "* if the cleaning area can have an irregular shape (e.g., a hallway connecting two rooms), or\n",
        "* if the room contains obstacles (i.e., squares that it cannot pass through and trigger the bumper sensors).\n",
        "* if the dirt sensor is not perfect and gives 10% of the time a wrong reading (clean when it is dirty or dirty when it is clean).\n",
        "* if the bumper sensor is not perfect and 10% of the time does not report a wall when there is one."
      ]
    },
    {
      "cell_type": "markdown",
      "source": [
        "\n",
        "##Rectangular Room with Unknown Size\n",
        "-**Simple Random Agent**: The simple random agent would not adapt to the room size, as it moves randomly and doesn't remember where it has been or the layout of the room. As a result, it could miss cleaning some areas or take an excessive amount of energy to clean the room.\n",
        "\n",
        "-**Simple Reflex Agent**: The simple reflex agent will handle this situation slightly better by avoiding walls and cleaning squares it detects as dirty. However, without an internal memory of its movements, it will still revisit the same areas, which may cause inefficiency.\n",
        "\n",
        "-**Model-Based Reflex Agent**: Model based agent, with its internal state and tracking of visited and cleaned squares it will perform better. Even in an unknown room size, the model-based reflex agent will explore and clean systematically, covering the room more efficiently compared to the random and simple reflex agents.\n",
        "## Cleaning Area with Irregular Shape (e.g., a Hallway Connecting Two Rooms)\n",
        "-**Simple Random Agent**: The agent would struggle with an irregular shape due to its random movement. It might get stuck in one part of the room and repeatedly revisit it without cleaning the entire space.\n",
        "\n",
        "-**Simple Reflex Agent**: The agent would avoid walls and clean as it moves, but it would still struggle to systematically clean irregularly shaped rooms. Without a memory of its movements, it could miss areas.\n",
        "\n",
        "-**Model-Based Reflex Agent**: The model-based agent would perform best here. By keeping track of visited squares, it can handle the irregular shape efficiently and ensure it covers the entire area. It can adjust its movement pattern to accommodate the non-rectangular layout.\n",
        "## Room with Obstacles (i.e., Squares It Cannot Pass Through)\n",
        "-**Simple Random Agent**: The random agent would bump into obstacles frequently, wasting energy without making much progress. It would be very inefficient in such an environment.\n",
        "\n",
        "-**Simple Reflex Agent**: The reflex agent would avoid obstacles using its bumper sensors, but without an efficient exploration pattern, it might spend too much time moving around the obstacles.\n",
        "\n",
        "-**Model-Based Reflex Agent**: The model-based reflex agent would handle obstacles best. By remembering where it has been and what areas are blocked, it would navigate around obstacles efficiently and ensure that all accessible areas are cleaned.\n",
        "## Imperfect Dirt Sensor (10% Chance of Incorrect Reading)\n",
        "-**Simple Random Agent**: Since the agent acts randomly and doesn't take into account whether a square is actually clean or dirty, the incorrect readings would not have a noticeable effect on its performance. It is already inefficient.\n",
        "\n",
        "-**Simple Reflex Agent**: The simple reflex agent would be affected by the incorrect sensor readings, possibly cleaning clean squares or missing dirty ones. Without memory, it cannot revisit or correct these errors effectively.\n",
        "\n",
        "-**Model-Based Reflex Agent**: The model-based agent would handle this better. It keeps track of squares that were suspected of being dirty, even if the sensor provided incorrect readings. This allows it to revisit squares where it suspects errors and improves its overall cleaning performance, despite the imperfect sensor.\n",
        "##Imperfect Bumper Sensor (10% Chance of Incorrect Wall Detection)\n",
        "-**Simple Random Agent**: The random agent would continue bumping into walls due to the imperfect sensor, wasting energy and making no progress in certain directions.\n",
        "\n",
        "-**Simple Reflex Agent**: The agent would occasionally try to move into a wall due to the sensor failure, which would slightly affect its efficiency but not as much as the random agent. It would still move away after detecting a wall eventually.\n",
        "\n",
        "-**Model-Based Reflex Agent**: The model-based reflex agent would be least affected, as it remembers the locations of walls after encountering them once. Even if a sensor fails to detect a wall temporarily, the agent would adjust its movement based on its internal memory, reducing the impact of incorrect sensor readings."
      ],
      "metadata": {
        "id": "7k2hc21Ptg9T"
      }
    },
    {
      "cell_type": "markdown",
      "metadata": {
        "id": "hIecf681arTK"
      },
      "source": [
        "## Advanced task: Imperfect Dirt Sensor\n",
        "\n",
        "* __Graduate students__ need to complete this task [10 points]\n",
        "* __Undergraduate students__ can attempt this as a bonus task [max +5 bonus points].\n",
        "\n",
        "1. Change your simulation environment to run experiments for the following problem: The dirt sensor has a 10% chance of giving the wrong reading. Perform experiments to observe how this changes the performance of the three implementations. Your model-based reflex agent is likely not able to clean the whole room, so you need to measure performance differently as a tradeoff between energy cost and number of uncleaned squares.\n",
        "\n",
        "2. Design an implement a solution for your model-based agent that will clean better. Show the improvement with experiments."
      ]
    },
    {
      "cell_type": "code",
      "execution_count": 62,
      "metadata": {
        "id": "LNs6xMfyarTK",
        "colab": {
          "base_uri": "https://localhost:8080/"
        },
        "outputId": "92716fe9-2bdf-444c-b916-eaa5075ee518"
      },
      "outputs": [
        {
          "output_type": "stream",
          "name": "stdout",
          "text": [
            "Average Energy Used:\n",
            "Agent      Improved Model-Based Reflex Agent  Simple Random Agent  \\\n",
            "Room Size                                                           \n",
            "100x100                               100.00               100.00   \n",
            "10x10                                 100.00               100.00   \n",
            "5x5                                    85.07                98.58   \n",
            "\n",
            "Agent      Simple Reflex Agent  \n",
            "Room Size                       \n",
            "100x100                 100.00  \n",
            "10x10                   100.00  \n",
            "5x5                      85.72  \n",
            "\n",
            "Average Uncleaned Squares:\n",
            "Agent      Improved Model-Based Reflex Agent  Simple Random Agent  \\\n",
            "Room Size                                                           \n",
            "100x100                              1987.24              2000.73   \n",
            "10x10                                  11.00                17.52   \n",
            "5x5                                     2.51                 2.98   \n",
            "\n",
            "Agent      Simple Reflex Agent  \n",
            "Room Size                       \n",
            "100x100                1993.52  \n",
            "10x10                    13.73  \n",
            "5x5                       0.86  \n"
          ]
        }
      ],
      "source": [
        "# Your code and discussion goes hereimport numpy as np\n",
        "import random\n",
        "import matplotlib.pyplot as plt\n",
        "import pandas as pd\n",
        "import contextlib\n",
        "import io\n",
        "\n",
        "# Suppress output function\n",
        "def suppress_output():\n",
        "    return contextlib.redirect_stdout(io.StringIO())\n",
        "\n",
        "# Modify the get_sensors function to introduce a 10% chance of incorrect dirt sensor reading\n",
        "def get_sensors_imperfect(agent_position, room):\n",
        "    x, y = agent_position\n",
        "    n = room.shape[0]\n",
        "    bumpers = {\n",
        "        \"north\": (x == 0),\n",
        "        \"south\": (x == n-1),\n",
        "        \"west\": (y == 0),\n",
        "        \"east\": (y == n-1)\n",
        "    }\n",
        "\n",
        "    #10% error in the dirt sensor reading\n",
        "    actual_dirt = room[x, y]\n",
        "    dirt_sensor = actual_dirt if random.random() > 0.1 else (1 - actual_dirt)  # 10% chance of wrong reading\n",
        "    return bumpers, dirt_sensor\n",
        "\n",
        "# The environment simulator with the imperfect dirt sensor\n",
        "def imperfect_environment(agent_function, room_size=5, dirt_prob=0.2, max_steps=100, verbose=False):\n",
        "    # Initialize the room and agent position\n",
        "    room = np.random.choice([0, 1], size=(room_size, room_size), p=[1 - dirt_prob, dirt_prob])\n",
        "    agent_position = (random.randint(0, room_size - 1), random.randint(0, room_size - 1))\n",
        "    total_energy = 0  # Performance measure: number of actions taken\n",
        "    uncleaned_squares = np.sum(room)  # Track the number of dirty squares at the start\n",
        "\n",
        "    for step in range(max_steps):\n",
        "        bumpers, dirt = get_sensors_imperfect(agent_position, room)  # Get sensors with imperfect dirt sensor\n",
        "        action = agent_function(bumpers, dirt)  # Call agent function to get the next action\n",
        "\n",
        "        # Perform the action\n",
        "        if action == \"suck\" and room[agent_position] == 1:  # Only clean if the square is actually dirty\n",
        "            room[agent_position] = 0  # Clean the square\n",
        "        else:\n",
        "            agent_position = move_agent(agent_position, action, bumpers)  # Move the agent\n",
        "\n",
        "        # Increment the performance measure (1 action = 1 energy unit)\n",
        "        total_energy += 1\n",
        "\n",
        "        # If all squares are clean, stop the simulation\n",
        "        if np.sum(room) == 0:\n",
        "            break\n",
        "\n",
        "    uncleaned_squares = np.sum(room)  # Count how many squares remain dirty\n",
        "    return total_energy, uncleaned_squares  # Return both energy used and uncleaned squares\n",
        "\n",
        "# Improved Model-Based Reflex Agent for Imperfect Sensor\n",
        "def improved_model_based_reflex_agent(room_size):\n",
        "    # Initialize agent state\n",
        "    agent_state = {\n",
        "        'visited_squares': set(),    # Track visited squares\n",
        "        'cleaned_squares': set(),    # Track cleaned squares\n",
        "        'agent_position': place_agent(room_size),  # Current agent position\n",
        "        'direction': 'east',         # Start moving east after reaching the corner\n",
        "        'suspected_dirty_squares': set()  # Keep track of suspected dirty squares due to imperfect sensor\n",
        "    }\n",
        "\n",
        "    def agent_function(bumpers, dirty):\n",
        "        x, y = agent_state['agent_position']\n",
        "\n",
        "        # If dirty, clean it and add it to cleaned squares\n",
        "        if dirty and (x, y) not in agent_state['cleaned_squares']:\n",
        "            agent_state['cleaned_squares'].add((x, y))\n",
        "            return \"suck\"\n",
        "\n",
        "        # If square was falsely marked clean but agent suspects it is dirty\n",
        "        if (x, y) in agent_state['suspected_dirty_squares'] and (x, y) not in agent_state['cleaned_squares']:\n",
        "            return \"suck\"  # Re-clean suspected dirty squares\n",
        "\n",
        "        # Move in a zigzag pattern\n",
        "        if agent_state['direction'] == \"east\":\n",
        "            if not bumpers[\"east\"]:\n",
        "                agent_state['agent_position'] = move_agent((x, y), \"east\", bumpers)\n",
        "                return \"east\"\n",
        "            elif not bumpers[\"south\"]:\n",
        "                agent_state['agent_position'] = move_agent((x, y), \"south\", bumpers)\n",
        "                agent_state['direction'] = \"west\"\n",
        "                return \"south\"\n",
        "        elif agent_state['direction'] == \"west\":\n",
        "            if not bumpers[\"west\"]:\n",
        "                agent_state['agent_position'] = move_agent((x, y), \"west\", bumpers)\n",
        "                return \"west\"\n",
        "            elif not bumpers[\"south\"]:\n",
        "                agent_state['agent_position'] = move_agent((x, y), \"south\", bumpers)\n",
        "                agent_state['direction'] = \"east\"\n",
        "                return \"south\"\n",
        "\n",
        "        # If there's nothing left to do, clean the current square\n",
        "        return \"suck\"\n",
        "\n",
        "    return agent_function\n",
        "\n",
        "# Run multiple simulations with imperfect sensor\n",
        "def run_imperfect_simulations(agent_function, room_size=5, dirt_prob=0.2, max_steps=100, num_runs=100, is_factory=False):\n",
        "    total_energy_list = []\n",
        "    uncleaned_list = []\n",
        "    for _ in range(num_runs):\n",
        "        agent = agent_function(room_size) if is_factory else agent_function\n",
        "        with suppress_output():  # Suppress output during simulation\n",
        "            total_energy, uncleaned_squares = imperfect_environment(agent, room_size=room_size, dirt_prob=dirt_prob, max_steps=max_steps, verbose=False)\n",
        "        total_energy_list.append(total_energy)\n",
        "        uncleaned_list.append(uncleaned_squares)\n",
        "    return np.mean(total_energy_list), np.mean(uncleaned_list)\n",
        "\n",
        "# Room sizes to compare\n",
        "room_sizes = [5, 10, 100]\n",
        "\n",
        "# Dictionary of agents\n",
        "agents = {\n",
        "    'Simple Random Agent': (simple_randomized_agent, False),\n",
        "    'Simple Reflex Agent': (simple_reflex_agent, False),\n",
        "    'Improved Model-Based Reflex Agent': (improved_model_based_reflex_agent, True)\n",
        "}\n",
        "\n",
        "# Collect results\n",
        "results = []\n",
        "for room_size in room_sizes:\n",
        "    for agent_name, (agent_function, is_factory) in agents.items():\n",
        "        avg_energy_used, avg_uncleaned = run_imperfect_simulations(agent_function, room_size=room_size, num_runs=100, is_factory=is_factory)\n",
        "        results.append([f'{room_size}x{room_size}', agent_name, avg_energy_used, avg_uncleaned])\n",
        "\n",
        "# Convert results to a DataFrame\n",
        "results_df = pd.DataFrame(results, columns=['Room Size', 'Agent', 'Avg Energy Used', 'Avg Uncleaned Squares'])\n",
        "\n",
        "# Pivot the DataFrame for easier display\n",
        "pivot_table = results_df.pivot(index='Room Size', columns='Agent', values='Avg Energy Used')\n",
        "pivot_table_uncleaned = results_df.pivot(index='Room Size', columns='Agent', values='Avg Uncleaned Squares')\n",
        "\n",
        "# Display the pivot table\n",
        "print(\"Average Energy Used:\")\n",
        "print(pivot_table)\n",
        "\n",
        "print(\"\\nAverage Uncleaned Squares:\")\n",
        "print(pivot_table_uncleaned)\n",
        "\n"
      ]
    },
    {
      "cell_type": "markdown",
      "source": [
        "# Discussion\n",
        "\n",
        "In this experiment, we tested how three agents (Simple Random Agent, Simple Reflex Agent, and the Improved Model-Based Reflex Agent) handled a situation where the dirt sensor gave wrong readings 10% of the time. Here are the key findings:\n",
        "\n",
        "- **Energy Use**: The Improved Model-Based Reflex Agent used much less energy to clean smaller rooms (like the 5x5 room) compared to the other two agents. This shows that it is more efficient in cleaning systematically. However, when we tested it in larger rooms (like 10x10 or 100x100), all agents took more steps due to the room size and the sensor errors.\n",
        "\n",
        "- **Uncleaned squares**: Even with the sensor errors, the Improved Model-Based Reflex Agent left fewer dirty squares than the other agents. This is because it remembers which areas it has cleaned, making it more thorough, especially in smaller rooms.\n",
        "\n",
        "In conclusion, the Improved Model-Based Reflex Agent was the most effective, particularly in smaller rooms. However, for larger rooms and environments with sensor errors, it could still be improved to be more efficient."
      ],
      "metadata": {
        "id": "K8uyz4Q2pZI7"
      }
    },
    {
      "cell_type": "markdown",
      "metadata": {
        "id": "S6-MrUjJarTK"
      },
      "source": [
        "## More advanced implementation tasks\n",
        "\n",
        "* __Obstacles:__ Change your simulation environment to run experiments for the following problem: Add random obstacle squares that also trigger the bumper sensor. The agent does not know where the obstacles are. Perform experiments to observe how this changes the performance of the three implementations. Describe what would need to be done to perform better with obstacles. Add code if you can.\n",
        "\n",
        "* __Agent for and environment with obstacles:__ Implement an agent for an environment where the agent does not know how large the environment is (we assume it is rectangular), where it starts or where the obstacles are. An option would be to always move to the closest unchecked/uncleaned square (note that this is actually depth-first search).\n",
        "\n",
        "* __Utility-based agent:__ Change the environment for a $5 \\times 5$ room, so each square has a fixed probability of getting dirty again. For the implementation, we give the environment a 2-dimensional array of probabilities. The utility of a state is defined as the number of currently clean squares in the room. Implement a utility-based agent that maximizes the expected utility over one full charge which lasts for 100000 time steps. To do this, the agent needs to learn the probabilities with which different squares get dirty again. This is very tricky!"
      ]
    },
    {
      "cell_type": "markdown",
      "source": [
        "##Ideas:\n",
        "1.For obstacles, the agent needs to build a map and use a systematic exploration strategy.\n",
        "\n",
        "2.For unknown environments, DFS-like exploration ensures the cleaning.\n",
        "\n",
        "3.For utility-based agents, learning probabilities of dirt reappearing allows the agent to maximize cleanliness by focusing on high-probability squares."
      ],
      "metadata": {
        "id": "LEcCYg141Zwb"
      }
    },
    {
      "cell_type": "code",
      "execution_count": null,
      "metadata": {
        "id": "2h2jIIVLarTK"
      },
      "outputs": [],
      "source": [
        "# Your ideas/code"
      ]
    }
  ],
  "metadata": {
    "kernelspec": {
      "display_name": "AI",
      "language": "python",
      "name": "python3"
    },
    "language_info": {
      "codemirror_mode": {
        "name": "ipython",
        "version": 3
      },
      "file_extension": ".py",
      "mimetype": "text/x-python",
      "name": "python",
      "nbconvert_exporter": "python",
      "pygments_lexer": "ipython3",
      "version": "3.10.12"
    },
    "toc-autonumbering": false,
    "colab": {
      "provenance": []
    }
  },
  "nbformat": 4,
  "nbformat_minor": 0
}